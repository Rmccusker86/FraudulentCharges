{
 "cells": [
  {
   "cell_type": "code",
   "execution_count": null,
   "id": "95b10dfd",
   "metadata": {},
   "outputs": [],
   "source": [
    "#Pseudocode\n",
    "\n",
    "#import Dependencies"
   ]
  },
  {
   "cell_type": "code",
   "execution_count": null,
   "id": "ac8ff300",
   "metadata": {},
   "outputs": [],
   "source": [
    "#import Data"
   ]
  },
  {
   "cell_type": "code",
   "execution_count": null,
   "id": "f8fe140e",
   "metadata": {},
   "outputs": [],
   "source": [
    "#show max rows and columns"
   ]
  },
  {
   "cell_type": "code",
   "execution_count": null,
   "id": "28e0ab1a",
   "metadata": {},
   "outputs": [],
   "source": [
    "#test Train Split"
   ]
  },
  {
   "cell_type": "code",
   "execution_count": null,
   "id": "20ce2df2",
   "metadata": {},
   "outputs": [],
   "source": [
    "## delete large unused variables using GC"
   ]
  },
  {
   "cell_type": "code",
   "execution_count": null,
   "id": "80934041",
   "metadata": {},
   "outputs": [],
   "source": [
    "# get the metrics in the format for AUC/ Predictions"
   ]
  },
  {
   "cell_type": "code",
   "execution_count": null,
   "id": "0e365f48",
   "metadata": {},
   "outputs": [],
   "source": []
  }
 ],
 "metadata": {
  "kernelspec": {
   "display_name": "PythonData",
   "language": "python",
   "name": "pythondata"
  },
  "language_info": {
   "codemirror_mode": {
    "name": "ipython",
    "version": 3
   },
   "file_extension": ".py",
   "mimetype": "text/x-python",
   "name": "python",
   "nbconvert_exporter": "python",
   "pygments_lexer": "ipython3",
   "version": "3.7.10"
  }
 },
 "nbformat": 4,
 "nbformat_minor": 5
}
