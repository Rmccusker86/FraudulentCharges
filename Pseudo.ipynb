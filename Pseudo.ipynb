{
 "cells": [
  {
   "cell_type": "code",
   "execution_count": null,
   "id": "7eb21d91",
   "metadata": {},
   "outputs": [],
   "source": [
    "Overview:\n",
    "    Tabular time series data with 590k train transactions and 500k test transactions.\n",
    "443 columns as independent variables\n",
    "“isFraud” is the dependent variable\n",
    "Leader Board (LB) is based on the public and private AUC score.\n",
    "Goal: Predict transactions that are isFraud==1.\n",
    "\n",
    "Submission: CSV file with TransactionID and Probability of isFraud==1.\n",
    "\n",
    "Grading: Based on AUC score.\n",
    "    \n",
    "    XGBoost is an optimized distributed gradient boosting library designed to have high computation speed & performance."
   ]
  },
  {
   "cell_type": "code",
   "execution_count": null,
   "id": "e24dcfb4",
   "metadata": {},
   "outputs": [],
   "source": [
    "Columns explanation\n",
    "TransactionDT: timedelta from a given reference datetime (not an actual timestamp)\n",
    "TransactionAMT: transaction payment amount in USD\n",
    "ProductCD: product code, the product for each transaction\n",
    "card1 - card6: payment card information, such as card type, card category, issue bank, country, etc.\n",
    "addr: address\n",
    "dist: distance\n",
    "P_ and (R__) emaildomain: purchaser and recipient email domain\n",
    "C1-C14: counting, such as how many addresses are found to be associated with the payment card, etc. The actual meaning is masked.\n",
    "D1-D15: timedelta, such as days between previous transaction, etc.\n",
    "M1-M9: match, such as names on card and address, etc.\n",
    "Vxxx: Vesta engineered rich features, including ranking, counting, and other entity relations.\n",
    "Categorical Features:\n",
    "\n",
    "ProductCD\n",
    "card1 - card6\n",
    "addr1, addr2\n",
    "P_emaildomain\n",
    "R_emaildomain\n",
    "M1 - M9\n",
    "id_12 - id_38"
   ]
  },
  {
   "cell_type": "code",
   "execution_count": null,
   "id": "acb2ef15",
   "metadata": {},
   "outputs": [],
   "source": [
    "#Pseudocode\n",
    "\n",
    "#import Dependencies\n",
    "import numpy as np # linear algebra\n",
    "import pandas as pd # data processing, CSV file I/O (e.g. pd.read_csv)\n",
    "from pandas.api.types import is_string_dtype, is_numeric_dtype, is_categorical_dtype\n",
    "from fastai.tabular.all import *\n",
    "from sklearn.ensemble import RandomForestRegressor, RandomForestClassifier\n",
    "from sklearn.tree import DecisionTreeRegressor, DecisionTreeClassifier\n",
    "from sklearn.model_selection import StratifiedKFold\n",
    "from sklearn.model_selection import train_test_split\n",
    "import xgboost as xgb\n",
    "from sklearn.metrics import confusion_matrix, roc_auc_score, plot_confusion_matrix, precision_score, recall_score, classification_report, plot_roc_curve, roc_curve\n",
    "from sklearn.model_selection import train_test_split\n",
    "from sklearn.model_selection import KFold, GroupKFold\n",
    "import gc\n",
    "import random as r\n",
    "import joblib"
   ]
  },
  {
   "cell_type": "code",
   "execution_count": null,
   "id": "1bea2a58",
   "metadata": {},
   "outputs": [],
   "source": [
    "#import Data"
   ]
  },
  {
   "cell_type": "code",
   "execution_count": null,
   "id": "8b8a5218",
   "metadata": {},
   "outputs": [],
   "source": [
    "#show max rows and columns"
   ]
  },
  {
   "cell_type": "code",
   "execution_count": null,
   "id": "5d92b750",
   "metadata": {},
   "outputs": [],
   "source": [
    "#test Train Split"
   ]
  },
  {
   "cell_type": "code",
   "execution_count": null,
   "id": "e84ed593",
   "metadata": {},
   "outputs": [],
   "source": [
    "## delete large unused variables using GC"
   ]
  },
  {
   "cell_type": "code",
   "execution_count": null,
   "id": "0e0d8d46",
   "metadata": {},
   "outputs": [],
   "source": [
    "# get the metrics in the format for AUC/ Predictions"
   ]
  },
  {
   "cell_type": "raw",
   "id": "28e39c24",
   "metadata": {},
   "source": [
    "#setting Important Features"
   ]
  },
  {
   "cell_type": "code",
   "execution_count": null,
   "id": "f8667a9d",
   "metadata": {},
   "outputs": [],
   "source": [
    "#Format Test Predictions"
   ]
  },
  {
   "cell_type": "code",
   "execution_count": null,
   "id": "9d75e926",
   "metadata": {},
   "outputs": [],
   "source": [
    "#Create predictions dataframe"
   ]
  },
  {
   "cell_type": "code",
   "execution_count": null,
   "id": "93dad394",
   "metadata": {},
   "outputs": [],
   "source": [
    "#build XGB model"
   ]
  },
  {
   "cell_type": "code",
   "execution_count": null,
   "id": "6becf4c1",
   "metadata": {},
   "outputs": [],
   "source": [
    "## score prediction"
   ]
  },
  {
   "cell_type": "code",
   "execution_count": null,
   "id": "48527e19",
   "metadata": {},
   "outputs": [],
   "source": [
    "## test results predictions"
   ]
  },
  {
   "cell_type": "code",
   "execution_count": null,
   "id": "94fda279",
   "metadata": {},
   "outputs": [],
   "source": [
    "## Getting feature importances"
   ]
  },
  {
   "cell_type": "code",
   "execution_count": null,
   "id": "0b486f29",
   "metadata": {},
   "outputs": [],
   "source": [
    "## setup kfold"
   ]
  },
  {
   "cell_type": "code",
   "execution_count": null,
   "id": "ef56cd58",
   "metadata": {},
   "outputs": [],
   "source": [
    "## OOF"
   ]
  },
  {
   "cell_type": "code",
   "execution_count": null,
   "id": "856666d8",
   "metadata": {},
   "outputs": [],
   "source": [
    "## Getting Feature Importances"
   ]
  },
  {
   "cell_type": "code",
   "execution_count": null,
   "id": "cbfd90da",
   "metadata": {},
   "outputs": [],
   "source": [
    "EDA ## collecting all columns"
   ]
  },
  {
   "cell_type": "code",
   "execution_count": null,
   "id": "e5ecf51c",
   "metadata": {},
   "outputs": [],
   "source": [
    "## Vcol buckets"
   ]
  },
  {
   "cell_type": "code",
   "execution_count": null,
   "id": "7602a350",
   "metadata": {},
   "outputs": [],
   "source": [
    "## Remove all v columns using below code\n",
    "tf_V = [bool(re.search(\"^V\"+\"[0-9]+\",col)) for col in xs.columns.to_list()]\n",
    "cols = xs.columns[list(~np.array(tf_V))].to_list()\n",
    "## add specific v columns\n",
    "cols +=v\n",
    "print(len(cols))"
   ]
  },
  {
   "cell_type": "code",
   "execution_count": null,
   "id": "36483564",
   "metadata": {},
   "outputs": [],
   "source": [
    "## remove time and other columns that don't add to score\n",
    "cols_rem = ['TransactionID', 'TransactionDT']\n",
    "\n",
    "cols_rem +=[\"DayNum\",\"HrOfDay\",\"WkDayNum\",'R_emaildomain1', 'R_emaildomain2', 'P_emaildomain1', 'P_emaildomain2','id_31_browser',\"DeviceInfo_make\"]\n",
    "cols = set_approach(cols,cols_rem)"
   ]
  },
  {
   "cell_type": "code",
   "execution_count": null,
   "id": "4d739b0d",
   "metadata": {},
   "outputs": [],
   "source": [
    "#Clean up D columns"
   ]
  },
  {
   "cell_type": "code",
   "execution_count": null,
   "id": "4cf39b6d",
   "metadata": {},
   "outputs": [],
   "source": [
    "# One Hot Encoding"
   ]
  },
  {
   "cell_type": "code",
   "execution_count": null,
   "id": "6e970a8b",
   "metadata": {},
   "outputs": [],
   "source": [
    "#Adding Dn columns"
   ]
  },
  {
   "cell_type": "code",
   "execution_count": null,
   "id": "b7bbfc9a",
   "metadata": {},
   "outputs": [],
   "source": [
    "#combine and group aggregation (Getting UID)"
   ]
  },
  {
   "cell_type": "code",
   "execution_count": null,
   "id": "76ffa8b1",
   "metadata": {},
   "outputs": [],
   "source": [
    "#Frequency Encoding"
   ]
  },
  {
   "cell_type": "code",
   "execution_count": null,
   "id": "3a832d84",
   "metadata": {},
   "outputs": [],
   "source": [
    "#Final list of columns"
   ]
  },
  {
   "cell_type": "code",
   "execution_count": null,
   "id": "b16c58ec",
   "metadata": {},
   "outputs": [],
   "source": [
    "## Fillna"
   ]
  },
  {
   "cell_type": "code",
   "execution_count": null,
   "id": "b097cda4",
   "metadata": {},
   "outputs": [],
   "source": [
    "#Local validation: Hold out"
   ]
  },
  {
   "cell_type": "code",
   "execution_count": null,
   "id": "1d04e327",
   "metadata": {},
   "outputs": [],
   "source": [
    "## variable to trigger getting FI"
   ]
  },
  {
   "cell_type": "code",
   "execution_count": null,
   "id": "5104d9f8",
   "metadata": {},
   "outputs": [],
   "source": [
    "## Linear split 80% 20%"
   ]
  },
  {
   "cell_type": "code",
   "execution_count": null,
   "id": "da98bd88",
   "metadata": {},
   "outputs": [],
   "source": [
    "## Run LV 5 times"
   ]
  },
  {
   "cell_type": "code",
   "execution_count": null,
   "id": "f4277707",
   "metadata": {},
   "outputs": [],
   "source": [
    "Local Validation: kfold"
   ]
  },
  {
   "cell_type": "code",
   "execution_count": null,
   "id": "93fd34a0",
   "metadata": {},
   "outputs": [],
   "source": [
    "## Run 6 time kfold along with OOF prediction and fold based prediction of Test"
   ]
  },
  {
   "cell_type": "code",
   "execution_count": null,
   "id": "32c7e8e6",
   "metadata": {},
   "outputs": [],
   "source": [
    "Adverserial Validation"
   ]
  },
  {
   "cell_type": "code",
   "execution_count": null,
   "id": "efce3f91",
   "metadata": {},
   "outputs": [],
   "source": [
    "## AV"
   ]
  },
  {
   "cell_type": "code",
   "execution_count": null,
   "id": "39836abe",
   "metadata": {},
   "outputs": [],
   "source": [
    "if AV:\n",
    "    df_dom = pd.concat([xs[cols], test_xs[cols]])\n",
    "    is_test = pd.DataFrame([0]*len(xs) + [1]*len(test_xs))\n",
    "    idxT,idxV = train_test_split(np.arange(len(df_dom)),test_size=0.2)\n",
    "    del xs, test_xs; x=gc.collect()\n",
    "\n",
    "    clf = xgb.XGBClassifier(n_estimators=1000, \n",
    "                            max_depth=8, #12\n",
    "                            learning_rate= 0.05,\n",
    "                            subsample= 0.6,#0.8 \n",
    "                            colsample_bytree= 0.4, \n",
    "                            random_state = r.randint(0,9999),\n",
    "                            use_label_encoder=False,                            \n",
    "    #                         #USE CPU\n",
    "    #                         nthread=4)\n",
    "                            # USE GPU\n",
    "                            tree_method='gpu_hist')\n",
    "\n",
    "    m = clf.fit(df_dom.iloc[idxT], is_test.iloc[idxT], eval_set=[(df_dom[cols].iloc[idxV],is_test.iloc[idxV])],\n",
    "                    eval_metric= \"auc\", verbose=100, early_stopping_rounds=100)\n",
    "\n",
    "    fi = xgb_fi(m, df_dom,df_dom)\n",
    "    fi.to_csv(\"fi_av.csv\",index=False)\n",
    "    fi"
   ]
  }
 ],
 "metadata": {
  "kernelspec": {
   "display_name": "PythonData",
   "language": "python",
   "name": "pythondata"
  },
  "language_info": {
   "codemirror_mode": {
    "name": "ipython",
    "version": 3
   },
   "file_extension": ".py",
   "mimetype": "text/x-python",
   "name": "python",
   "nbconvert_exporter": "python",
   "pygments_lexer": "ipython3",
   "version": "3.7.10"
  }
 },
 "nbformat": 4,
 "nbformat_minor": 5
}
